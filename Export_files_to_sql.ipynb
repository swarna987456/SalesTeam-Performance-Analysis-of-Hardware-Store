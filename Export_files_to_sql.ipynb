{
 "cells": [
  {
   "cell_type": "code",
   "execution_count": 1,
   "id": "6b83d511",
   "metadata": {},
   "outputs": [],
   "source": [
    "import numpy as np\n",
    "import pandas as pd\n",
    "import sqlalchemy\n",
    "import mysql.connector\n",
    "import os\n",
    "from urllib import parse\n",
    "import glob"
   ]
  },
  {
   "cell_type": "markdown",
   "id": "943fe468",
   "metadata": {},
   "source": [
    "Before exporting we need to create a database in advance, I have already created `crm_sales`"
   ]
  },
  {
   "cell_type": "code",
   "execution_count": 2,
   "id": "38032eb9",
   "metadata": {},
   "outputs": [],
   "source": [
    "engine = sqlalchemy.create_engine(\n",
    "         \"mysql+mysqlconnector://{user}:{psw}@{host}/crm_sales\"\\\n",
    "          .format(user = os.environ.get('DB_USER'),\n",
    "                  psw = parse.quote(os.environ.get('DB_PASS')),\n",
    "                  host = os.environ.get('DB_HOST')\n",
    "                 ))"
   ]
  },
  {
   "cell_type": "code",
   "execution_count": 3,
   "id": "17769d23",
   "metadata": {},
   "outputs": [
    {
     "data": {
      "text/plain": [
       "['accounts.csv',\n",
       " 'data_dictionary.csv',\n",
       " 'products.csv',\n",
       " 'sales_pipeline.csv',\n",
       " 'sales_teams.csv']"
      ]
     },
     "execution_count": 3,
     "metadata": {},
     "output_type": "execute_result"
    }
   ],
   "source": [
    "all_dataframes = glob.glob('*.csv')\n",
    "all_dataframes"
   ]
  },
  {
   "cell_type": "code",
   "execution_count": 4,
   "id": "153d576b",
   "metadata": {},
   "outputs": [
    {
     "data": {
      "text/plain": [
       "'accounts.csv'"
      ]
     },
     "execution_count": 4,
     "metadata": {},
     "output_type": "execute_result"
    }
   ],
   "source": [
    "all_dataframes[0]"
   ]
  },
  {
   "cell_type": "code",
   "execution_count": 5,
   "id": "f08625c3",
   "metadata": {},
   "outputs": [
    {
     "name": "stdout",
     "output_type": "stream",
     "text": [
      "accounts.csv Completed\n",
      "data_dictionary.csv Completed\n",
      "products.csv Completed\n",
      "sales_pipeline.csv Completed\n",
      "sales_teams.csv Completed\n"
     ]
    }
   ],
   "source": [
    "for file in all_dataframes:\n",
    "    df = pd.read_csv(file)\n",
    "    df.to_sql(name = file.split('.')[0], con = engine, index=False, if_exists='replace')\n",
    "    print(f'{file} Completed')"
   ]
  },
  {
   "cell_type": "markdown",
   "id": "2f11cd4f",
   "metadata": {},
   "source": [
    "Completed all files are exported to sql"
   ]
  }
 ],
 "metadata": {
  "kernelspec": {
   "display_name": "Python 3 (ipykernel)",
   "language": "python",
   "name": "python3"
  },
  "language_info": {
   "codemirror_mode": {
    "name": "ipython",
    "version": 3
   },
   "file_extension": ".py",
   "mimetype": "text/x-python",
   "name": "python",
   "nbconvert_exporter": "python",
   "pygments_lexer": "ipython3",
   "version": "3.9.13"
  }
 },
 "nbformat": 4,
 "nbformat_minor": 5
}
